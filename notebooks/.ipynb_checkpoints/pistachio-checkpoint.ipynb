{
 "cells": [
  {
   "cell_type": "markdown",
   "id": "d333515a",
   "metadata": {},
   "source": [
    "<h1 align=center style=\"line-height:200%;font-family:vazir;color:#0099cc\">\n",
    "<font face=\"vazir\" color=\"#0099cc\">\n",
    "پسته\n",
    "</font>\n",
    "</h1>\n",
    "\n",
    "<center>\n",
    "<img src=\"pistachios.jpg\">\n",
    "</center>"
   ]
  },
  {
   "cell_type": "markdown",
   "id": "6ed20bff",
   "metadata": {},
   "source": [
    "<h2 align=right style=\"line-height:200%;font-family:vazir;color:#0099cc\">\n",
    "<font face=\"vazir\" color=\"#0099cc\">\n",
    "مقدمه و صورت مسئله\n",
    "</font>\n",
    "</h2>\n",
    "\n",
    "<p dir=rtl style=\"direction: rtl; text-align: justify; line-height:200%; font-family:vazir; font-size:medium\">\n",
    "<font face=\"vazir\" size=3>\n",
    "    آیا می‌دانستید که پسته‌ها هم انواع مختلفی دارند؟ تنها در ایران گیاه‌شناسان بیش از چند ده نوع پسته شناسایی کرده‌اند، هرچند که تعداد محدودتری به شکل تجاری شناخته‌شده و در دسترس هستند. با توجه به اینکه هرکدام از گونه‌های مختلف از ویژگی‌های خاص و متفاوتی برخوردارند، شناسایی گونه‌های مختلف و تفکیک پسته‌ها، عملی بسیار کاربردی است. به عنوان مثال برخی پسته‌ها برای مصارف شیرینی‌پزی مناسب‌ترند و برخی دیگر که تُردتر هستند بیشتر به عنوان تنقلات مصرف می‌شوند.\n",
    "    <br>\n",
    "    حال فرض کنید که یک شرکت یا فروشگاه که بصورت عمده پسته خریداری می‌کند می‌خواهد نوع پسته‌ی خریداری‌شده خود را تشخیص دهد تا مطمئن شود که همان پسته‌ی موردنظر خودش است و کسی این بین سودجویی نکرده باشد. به عنوان مثال در ایران قیمت پسته‌ی <i>اکبری</i> گران‌تر از سایر پسته‌ها مثل پسته‌ای با نام <i>احمد آقایی</i> است. اگر فروشگاه قصد خرید پسته‌ی اکبری را داشته و تشخیص دهد که به وی پسته‌ی احمد آقایی فروخته‌اند، با توجه به حجم زیاد خرید ممکن است زیان بسیار بالایی ببیند.\n",
    "    <br>\n",
    "    اما چگونه می‌توان پسته‌ها را از روی ظاهرشان قضاوت کرده و تفکیک‌شان کرد؟ اگر این کار را به عهده‌ی یک فرد متخصص (پسته‌شناس!) هم بگذاریم در بهترین حالت وقتی یک پسته را ببیند چنین عمل می‌کند که مثلاً از نظر شکل شبیه به کدام یک از پسته‌هایی‌ست که می‌شناسد، از نظر طول یا اندازه چطور، میزان خندان بودن آن به کدام پسته شباهت دارد و سوالاتی از این دست، تا اینکه تصمیم نهایی خود را اعلام کند.\n",
    "    <br>\n",
    "    اگر کمی دقت کنید این کار بسیار شبیه به همان روالی است که در الگوریتم <b>«k-نزدیک‌ترین همسایه»</b> در پیش گرفته می‌شود. یعنی با مشاهده‌ی یک نمونه‌ی جدید، فاصله‌ی ویژگی‌های آن را با ویژگی‌های تمام نمونه‌های از پیش دیده‌شده می‌سنجد و از میان <code>k</code> تا از نزدیک‌ترین نمونه‌ها بررسی می‌کند که متداول‌ترین دسته کدام است و آن را به عنوان خروجی اعلام می‌کند.  \n",
    "    در این تمرین قصد داریم مدل <i>k-NN</i> را بر روی یک مجموعه‌داده‌‌ی پسته‌ای بسازیم و بررسی کنیم که با چه دقتی می‌توان دو نوع متفاوت از پسته را بصورت هوشمند از همدیگر تفکیک کرد.\n",
    "</font>\n",
    "</p>"
   ]
  },
  {
   "cell_type": "markdown",
   "id": "c5af1784",
   "metadata": {},
   "source": [
    "<h2 align=right style=\"line-height:200%;font-family:vazir;color:#0099cc\">\n",
    "<font face=\"vazir\" color=\"#0099cc\">\n",
    "وارد کردن کتابخانه‌های مورد نیاز\n",
    "</font>\n",
    "</h2>\n",
    "\n",
    "<p dir=rtl style=\"direction: rtl; text-align: justify; line-height:200%; font-family:vazir; font-size:medium\">\n",
    "<font face=\"vazir\" size=3>\n",
    "    ابتدا کتابخانه‌های مورد نیازتان را وارد کنید.\n",
    "</font>\n",
    "</p>"
   ]
  },
  {
   "cell_type": "code",
   "execution_count": null,
   "id": "99450f9e",
   "metadata": {},
   "outputs": [],
   "source": [
    "import numpy as np\n",
    "import pandas as pd"
   ]
  },
  {
   "cell_type": "markdown",
   "id": "72faaed8",
   "metadata": {},
   "source": [
    "<h2 align=right style=\"line-height:200%;font-family:vazir;color:#0099cc\">\n",
    "<font face=\"vazir\" color=\"#0099cc\">\n",
    "معرفی مجموعه‌داده\n",
    "</font>\n",
    "</h2>\n",
    "\n",
    "<p dir=rtl style=\"direction: rtl; text-align: justify; line-height:200%; font-family:vazir; font-size:medium\">\n",
    "<font face=\"vazir\" size=3>\n",
    "مجموعه‌داده‌ای که در اختیار شما قرار گرفته شامل ۱۷۱۸ داده‌ی مربوط به دو نوع پسته‌ی <i>Kirmizi</i> و <i>Siirt</i> است که در کشور ترکیه تولید می‌شود.\n",
    "از این دو نوع پسته تصاویری با رزولوشن بسیار بالا گرفته شده و سپس تکنیک‌های پردازش تصویر بر روی آن‌ها اعمال شده است. \n",
    "به کمک این تکنیک‌ها و استخراج ویژگی در نهایت ۱۶ ویژگی برای هر نمونه ثبت شده است. برخی از این ویژگی‌ها مانند طول یا محیط بصورت مستقیم از روی تصویر بدست آمده و برخی دیگر از ویژگی‌ها طبق این ویژگی‌های اصلی تولید شده‌اند. از آنجا که ویژگی‌های به‌دست‌آمده طبق فرمول‌هایی براساس سایر ویژگی‌ها بوده‌اند به منظور پرهیز از پیچیدگی از شرح آن‌ها خودداری می‌کنیم اما برخی از آن‌ها در تصویر زیر نمایش داده شده است.\n",
    "</font>\n",
    "</p>\n",
    "\n",
    "<center>\n",
    "<img src=\"image.jpg\">\n",
    "</center>"
   ]
  },
  {
   "cell_type": "markdown",
   "id": "e99bbe9b",
   "metadata": {},
   "source": [
    "<h2 align=right style=\"line-height:200%;font-family:vazir;color:#0099cc\">\n",
    "<font face=\"vazir\" color=\"#0099cc\">\n",
    "خواندن مجموعه داده\n",
    "</font>\n",
    "</h2>\n",
    "\n",
    "<p dir=rtl style=\"direction: rtl; text-align: justify; line-height:200%; font-family:vazir; font-size:medium\">\n",
    "<font face=\"vazir\" size=3>\n",
    "    در ابتدا نیاز است فایل‌های مجموعه‌داده را بخوانید. نمونه‌های آموزشی در فایل <code>train.csv</code> و نمونه‌های آزمون که باید دسته‌ی آن‌ها را پیش‌بینی کنید در فایل <code>test.csv</code> ذخیره شده‌اند. اگر لازم دانستید می‌توانید به دلخواه خود بخشی از مجموعه‌ی آموزشی را به عنوان مجموعه‌ی اعتبارسنجی نیز جدا کنید.\n",
    "</font>\n",
    "</p>"
   ]
  },
  {
   "cell_type": "code",
   "execution_count": null,
   "id": "7dcb9e87",
   "metadata": {},
   "outputs": [],
   "source": [
    "train_data = None # To-Do\n",
    "train_data"
   ]
  },
  {
   "cell_type": "code",
   "execution_count": null,
   "id": "ef178dab",
   "metadata": {},
   "outputs": [],
   "source": [
    "test_data = None # To-Do\n",
    "test_data"
   ]
  },
  {
   "cell_type": "markdown",
   "id": "23daec54",
   "metadata": {},
   "source": [
    "<h2 align=right style=\"line-height:200%;font-family:vazir;color:#0099cc\">\n",
    "<font face=\"vazir\" color=\"#0099cc\">\n",
    "پیش‌پردازش و مهندسی ویژگی\n",
    "</font>\n",
    "</h2>\n",
    "\n",
    "<p dir=rtl style=\"direction: rtl; text-align: justify; line-height:200%; font-family:vazir; font-size:medium\">\n",
    "<font face=\"vazir\" size=3>\n",
    "    در این سوال شما می‌توانید از هر تکنیک پیش‌پردازش/مهندسی ویژگی که در فصل‌های گذشته آموختید، استفاده کنید.\n",
    "    <br>\n",
    "    تکنیک‌هایی که استفاده می‌کنید به شکل مستقیم مورد ارزیابی توسط سامانه داوری قرار <b>نمی‌گیرند.</b> بلکه همه آن‌ها در دقت مدل شما تاثیر خواهند گذاشت؛ بنابراین هر چه پیش‌پردازش/مهندسی ویژگی بهتری انجام دهید تا دقت مدل بهبود پیدا کند، امتیاز بیشتری از این سوال کسب خواهید کرد.\n",
    "</font>\n",
    "</p>"
   ]
  },
  {
   "cell_type": "code",
   "execution_count": null,
   "id": "decbb767",
   "metadata": {},
   "outputs": [],
   "source": [
    "# To-Do"
   ]
  },
  {
   "cell_type": "markdown",
   "id": "f99f2c94",
   "metadata": {},
   "source": [
    "<h2 align=right style=\"line-height:200%;font-family:vazir;color:#0099cc\">\n",
    "<font face=\"vazir\" color=\"#0099cc\">\n",
    "مدل‌سازی\n",
    "</font>\n",
    "</h2>\n",
    "\n",
    "<p dir=rtl style=\"direction: rtl; text-align: justify; line-height:200%; font-family:vazir; font-size:medium\">\n",
    "<font face=\"vazir\" size=3>\n",
    "    حال که داده را پاکسازی کرده و احتمالا ویژگی‌هایی را به آن افزوده یا از آن حذف کرده‌اید، وقت آن است که مدلی آموزش دهید که بتواند متغیر هدف این مسئله را پیش‌بینی کند.\n",
    "    الگوریتم <i>k-NN</i> نیز در کتابخانه‌ی <code>scikit-learn</code> به‌خوبی پیاده‌سازی شده و می‌توانیم از آن جهت اجرای الگوریتم <i>k-نزدیک‌ترین همسایه</i> بر روی مجموعه‌داده‌ی خود کمک بگیریم.\n",
    "</font>\n",
    "</p>"
   ]
  },
  {
   "cell_type": "markdown",
   "id": "84ccbf48",
   "metadata": {},
   "source": [
    "<h3 align=right style=\"direction: rtl;text-align: right;line-height:200%;font-family:vazir;color:#0099cc\">\n",
    "<font face=\"vazir\" color=\"#0099cc\">\n",
    "    استفاده از <code>scikit-learn</code>\n",
    "</font>\n",
    "</h3>\n",
    "\n",
    "\n",
    "<p dir=rtl style=\"direction: rtl;text-align: right;line-height:200%;font-family:vazir;font-size:medium\">\n",
    "<font face=\"vazir\" size=3>\n",
    "    الگوریتم <i>k-نزدیک‌ترین همسایه</i> با نام <code>KNeighborsClassifier</code> در پکیج <code>neighbors</code> این کتابخانه در دسترس است. برخی از آرگومان‌های مهم آن در جدول زیر آمده است، اما جهت مطالعه‌ی کامل‌تر مستندات می‌توانید به <a href=\"https://scikit-learn.org/stable/modules/generated/sklearn.neighbors.KNeighborsClassifier.html\" target=\"_blank\">این لینک</a> مراجعه فرمایید.\n",
    "</font>\n",
    "</p>\n",
    "\n",
    "<center>\n",
    "<div dir=rtl style=\"line-height:200%;font-family:vazir;font-size:medium\">\n",
    "<font face=\"vazir\" size=3>\n",
    "    \n",
    "|آرگومان|توضیحات|\n",
    "|:------:|:---:|\n",
    "|n_neighbors|تعداد همسایه‌ها (مقدار <code>k</code>)|\n",
    "|p|مقدار توان در فاصله‌ی مینکوفسکی (اگر ۱ باشد معادل فاصله‌ی منهتن و اگر ۲ باشد معادل فاصله‌ی اقلیدسی خواهد بود)|\n",
    "|weights|میزان تاثیر همسایگان را در پیش‌بینی نهایی مشخص می‌کند. اگر معادل <code>'uniform'</code> تنظیم شود آنگاه وزن تمام همسایگان با هم برابر است، اما اگر معادل <code>'distance'</code> تنظیم شود تاثیر همسایگان نزدیک‌تر بیشتر خواهد بود.|\n",
    "    \n",
    "</font>\n",
    "</div>\n",
    "</center>\n"
   ]
  },
  {
   "cell_type": "markdown",
   "id": "7d90b4d9",
   "metadata": {},
   "source": [
    "<h3 align=right style=\"line-height:200%;font-family:vazir;color:#0099cc\">\n",
    "<font face=\"vazir\" color=\"#0099cc\">\n",
    "آموزش مدل\n",
    "</font>\n",
    "</h3>\n",
    "\n",
    "<p dir=rtl style=\"direction: rtl; text-align: justify; line-height:200%; font-family:vazir; font-size:medium\">\n",
    "<font face=\"vazir\" size=3>\n",
    "    در سلول زیر با استفاده از مدل آماده‌ای که در بالا شرح داده شد و به کمک تابع <code>fit</code> الگوریتم را بر روی مجموعه‌ی آموزشی اجرا کنید.\n",
    "</font>\n",
    "</p>"
   ]
  },
  {
   "cell_type": "code",
   "execution_count": null,
   "id": "03d20a30",
   "metadata": {},
   "outputs": [],
   "source": [
    "from sklearn.neighbors import KNeighborsClassifier\n",
    "\n",
    "model = None # To-Do"
   ]
  },
  {
   "cell_type": "markdown",
   "id": "33da5d2a",
   "metadata": {},
   "source": [
    "<h3 align=right style=\"line-height:200%;font-family:vazir;color:#0099cc\">\n",
    "<font face=\"vazir\" color=\"#0099cc\">\n",
    "معیار ارزیابی\n",
    "</font>\n",
    "</h3>\n",
    "\n",
    "<p dir=rtl style=\"direction: rtl; text-align: justify; line-height:200%;font-family:vazir;font-size:medium\">\n",
    "<font face=\"vazir\" size=3>\n",
    "    معیاری که برای ارزیابی عملکرد مدل انتخاب کرده‌ایم، <code>F1-score</code> نام دارد.\n",
    "    <br>\n",
    "    این معیار، سنجه ارزیابی کیفیت مدل شماست. به عبارت بهتر در سامانه داوری هم از همین معیار برای نمره‌دهی استفاده شده است.\n",
    "    <br>\n",
    "    پیشنهاد می‌شود با توجه به این معیار، عملکرد مدل خود را بر روی مجموعه‌ی آموزش یا اعتبارسنجی ارزیابی کنید.\n",
    "    <br>\n",
    "    برای محاسبه‌ی عملکرد مدل طبق این معیار می‌توانید از <code>sklearn.metrics.f1_score</code> استفاده کرده و آرگومان میانگین‌گیری را معادل حالت وزن‌دار (<code dir=ltr>average='weighted'</code>) قرار دهید. جهت مطالعه‌ی مستندات این کلاس می‌توانید به <a href=\"https://scikit-learn.org/stable/modules/generated/sklearn.metrics.f1_score.html\" target=\"_blank\">این لینک</a> مراجعه فرمایید.\n",
    "</font>\n",
    "</p>"
   ]
  },
  {
   "cell_type": "markdown",
   "id": "76e45621",
   "metadata": {},
   "source": [
    "$$F_1=\\frac{tp}{tp+\\frac{1}{2}(fp+fn)}$$"
   ]
  },
  {
   "cell_type": "code",
   "execution_count": null,
   "id": "cee1b883",
   "metadata": {},
   "outputs": [],
   "source": [
    "# evaluate your model\n",
    "from sklearn.metrics import f1_score\n",
    "\n",
    "prediction = None # To-Do"
   ]
  },
  {
   "cell_type": "markdown",
   "id": "b3928fa7",
   "metadata": {},
   "source": [
    "<p dir=rtl style=\"direction: rtl; text-align: justify; line-height:200%; font-family:vazir; font-size:medium\">\n",
    "<font color=\"red\"><b color='red'>توجه:</b></font>\n",
    "<font face=\"vazir\" size=3>\n",
    " جهت کسب امتیاز کامل نیاز است تا پاسخ شما حداقل امتیاز <code>85</code> را با توجه به معیار معرفی‌شده کسب نماید.\n",
    "</font>\n",
    "</p>"
   ]
  },
  {
   "cell_type": "markdown",
   "id": "4e9984de",
   "metadata": {},
   "source": [
    "<h2 align=right style=\"line-height:200%;font-family:vazir;color:#0099cc\">\n",
    "<font face=\"vazir\" color=\"#0099cc\">\n",
    " پیش‌بینی برای داده تست و خروجی\n",
    "</font>\n",
    "</h2>\n",
    "\n",
    "<p dir=rtl style=\"direction: rtl; text-align: justify; line-height:200%; font-family:vazir; font-size:medium\">\n",
    "<font face=\"vazir\" size=3>\n",
    "    اکنون نیاز است به کمک مدل خود برای هرکدام از نمونه‌های موجود در مجموعه‌ی آزمون، پیش‌بینی کنید که به کدام دسته تعلق دارد.  نتایج را در یک دیتافریم به نام <code>prediction</code> مطابق جدول زیر آماده کنید.\n",
    "</font>\n",
    "</p>"
   ]
  },
  {
   "cell_type": "markdown",
   "id": "c2f6d82d",
   "metadata": {},
   "source": [
    "<center>\n",
    "<div dir=rtl style=\"line-height:200%;font-family:vazir;font-size:medium\">\n",
    "<font face=\"vazir\" size=3>\n",
    "    \n",
    "|ستون|توضیحات|\n",
    "|:------:|:---:|\n",
    "|Class|نوع پسته‌ی پیش‌بینی‌شده|\n",
    "    \n",
    "</font>\n",
    "</div>\n",
    "</center>\n",
    "\n",
    "\n",
    "<p dir=rtl style=\"direction: rtl; text-align: justify; line-height:200%; font-family:vazir; font-size:medium\">\n",
    "<font face=\"vazir\" size=3>\n",
    "    توجه داده باشید که نوع پسته را باید همچون مجموعه‌داده‌ی اولیه یعنی بصورت اسمی (<i>Kirmizi_Pistachio</i> یا <i>Siit_Pistachio</i>) درج کنید.\n",
    "</font>\n",
    "</p>"
   ]
  },
  {
   "cell_type": "code",
   "execution_count": null,
   "id": "3d4a0844",
   "metadata": {},
   "outputs": [],
   "source": [
    "# predict test samples\n",
    "prediction = pd.DataFrame(None) # To-Do\n",
    "prediction"
   ]
  },
  {
   "cell_type": "markdown",
   "id": "0a77e7cd",
   "metadata": {},
   "source": [
    "<h2 align=right style=\"line-height:200%;font-family:vazir;color:#0099cc\">\n",
    "<font face=\"vazir\" color=\"#0099cc\">\n",
    "<b>سلول جواب‌ساز</b>\n",
    "</font>\n",
    "</h2>\n",
    "\n",
    "<p dir=rtl style=\"direction: rtl; text-align: justify; line-height:200%; font-family:vazir; font-size:medium\">\n",
    "<font face=\"vazir\" size=3>\n",
    "    برای ساخته‌شدن فایل <code>result.zip</code> سلول زیر را اجرا کنید. توجه داشته باشید که پیش از اجرای سلول زیر تغییرات اعمال شده در نت‌بوک را ذخیره کرده باشید (<code>ctrl+s</code>) تا در صورت نیاز به پشتیبانی امکان بررسی کد شما وجود داشته باشد.\n",
    "</font>\n",
    "</p>"
   ]
  },
  {
   "cell_type": "code",
   "execution_count": null,
   "id": "2c3bcd76",
   "metadata": {},
   "outputs": [],
   "source": [
    "import zipfile\n",
    "import joblib\n",
    "\n",
    "def compress(file_names):\n",
    "    print(\"File Paths:\")\n",
    "    print(file_names)\n",
    "    compression = zipfile.ZIP_DEFLATED\n",
    "    with zipfile.ZipFile(\"result.zip\", mode=\"w\") as zf:\n",
    "        for file_name in file_names:\n",
    "            zf.write('./' + file_name, file_name, compress_type=compression)\n",
    "\n",
    "joblib.dump(model, 'model')\n",
    "prediction.to_csv('submission.csv', index=False)\n",
    "file_names = ['pistachio.ipynb', 'submission.csv', 'model']\n",
    "compress(file_names)"
   ]
  },
  {
   "cell_type": "markdown",
   "id": "9d324736",
   "metadata": {},
   "source": [
    "<h4 align=right style=\"line-height:200%;font-family:vazir;color:#0099cc\">\n",
    "<font face=\"vazir\" color=\"#0099cc\">\n",
    "<b>راهنمایی</b>\n",
    "</font>\n",
    "</h4>\n",
    "\n",
    "<p dir=rtl style=\"direction: rtl; text-align: justify; line-height:200%; font-family:vazir; font-size:medium\">\n",
    "<font face=\"vazir\" size=3>\n",
    "    به نکات شرح داده شده در درسنامه نظیر تاثیر مقیاس ویژگی‌ها در عملکرد این الگوریتم و نحوه‌ی انتخاب مقدار مناسب برای <code>k</code> دقت فرمایید.\n",
    "</font>\n",
    "</p>"
   ]
  }
 ],
 "metadata": {
  "kernelspec": {
   "display_name": "Python 3 (ipykernel)",
   "language": "python",
   "name": "python3"
  },
  "language_info": {
   "codemirror_mode": {
    "name": "ipython",
    "version": 3
   },
   "file_extension": ".py",
   "mimetype": "text/x-python",
   "name": "python",
   "nbconvert_exporter": "python",
   "pygments_lexer": "ipython3",
   "version": "3.9.2"
  },
  "vscode": {
   "interpreter": {
    "hash": "ad2bdc8ecc057115af97d19610ffacc2b4e99fae6737bb82f5d7fb13d2f2c186"
   }
  }
 },
 "nbformat": 4,
 "nbformat_minor": 5
}
